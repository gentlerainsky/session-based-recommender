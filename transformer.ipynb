{
 "cells": [
  {
   "cell_type": "code",
   "execution_count": 1,
   "metadata": {},
   "outputs": [
    {
     "name": "stdout",
     "output_type": "stream",
     "text": [
      "train_session_df.shape=(139356, 8), val_session_df.shape=(54866, 8), test_session_df.shape=(48327, 8)\n"
     ]
    },
    {
     "name": "stderr",
     "output_type": "stream",
     "text": [
      "GPU available: True (cuda), used: True\n",
      "TPU available: False, using: 0 TPU cores\n",
      "IPU available: False, using: 0 IPUs\n",
      "HPU available: False, using: 0 HPUs\n",
      "`Trainer(val_check_interval=1.0)` was configured so validation will run at the end of the training epoch..\n",
      "Missing logger folder: saved_model/transformer/lightning_logs\n",
      "LOCAL_RANK: 0 - CUDA_VISIBLE_DEVICES: [0]\n",
      "\n",
      "  | Name           | Type             | Params\n",
      "----------------------------------------------------\n",
      "0 | loss_criterion | CrossEntropyLoss | 0     \n",
      "1 | model          | TransformerModel | 8.8 M \n",
      "----------------------------------------------------\n",
      "8.8 M     Trainable params\n",
      "0         Non-trainable params\n",
      "8.8 M     Total params\n",
      "35.101    Total estimated model params size (MB)\n"
     ]
    },
    {
     "data": {
      "application/vnd.jupyter.widget-view+json": {
       "model_id": "04742b7850aa427f9c39a2a5308cfcc1",
       "version_major": 2,
       "version_minor": 0
      },
      "text/plain": [
       "Sanity Checking: 0it [00:00, ?it/s]"
      ]
     },
     "metadata": {},
     "output_type": "display_data"
    },
    {
     "name": "stdout",
     "output_type": "stream",
     "text": [
      "Validation Set (@epoch:0): loss=10.203160285949707, recall=0.0, mrr=0.0\n"
     ]
    },
    {
     "name": "stderr",
     "output_type": "stream",
     "text": [
      "/workspace/recsys/transformer/model.py:54: UserWarning: Implicit dimension choice for softmax has been deprecated. Change the call to include dim=X as an argument.\n",
      "  output = F.softmax(output)\n"
     ]
    },
    {
     "data": {
      "application/vnd.jupyter.widget-view+json": {
       "model_id": "8ff026a31d864643aafee9d2ffd2567e",
       "version_major": 2,
       "version_minor": 0
      },
      "text/plain": [
       "Training: 0it [00:00, ?it/s]"
      ]
     },
     "metadata": {},
     "output_type": "display_data"
    },
    {
     "data": {
      "application/vnd.jupyter.widget-view+json": {
       "model_id": "f68d86cb5d1f47b888ccbe6ef5dd7740",
       "version_major": 2,
       "version_minor": 0
      },
      "text/plain": [
       "Validation: 0it [00:00, ?it/s]"
      ]
     },
     "metadata": {},
     "output_type": "display_data"
    },
    {
     "name": "stdout",
     "output_type": "stream",
     "text": [
      "Validation Set (@epoch:0): loss=10.163493156433105, recall=0.01994243450462818, mrr=0.004764428362250328\n"
     ]
    },
    {
     "data": {
      "application/vnd.jupyter.widget-view+json": {
       "model_id": "573594fe14e74d71be84c75f7b423dd8",
       "version_major": 2,
       "version_minor": 0
      },
      "text/plain": [
       "Validation: 0it [00:00, ?it/s]"
      ]
     },
     "metadata": {},
     "output_type": "display_data"
    },
    {
     "name": "stdout",
     "output_type": "stream",
     "text": [
      "Validation Set (@epoch:1): loss=10.13674259185791, recall=0.03286275640130043, mrr=0.011156736873090267\n"
     ]
    },
    {
     "data": {
      "application/vnd.jupyter.widget-view+json": {
       "model_id": "3b72f3bdb8bc4b5f9a86c06d00ddfdc6",
       "version_major": 2,
       "version_minor": 0
      },
      "text/plain": [
       "Validation: 0it [00:00, ?it/s]"
      ]
     },
     "metadata": {},
     "output_type": "display_data"
    },
    {
     "name": "stdout",
     "output_type": "stream",
     "text": [
      "Validation Set (@epoch:2): loss=10.119050979614258, recall=0.04383223503828049, mrr=0.015336624346673489\n"
     ]
    },
    {
     "data": {
      "application/vnd.jupyter.widget-view+json": {
       "model_id": "3f060075784c4e00b0e60e9003a34fe4",
       "version_major": 2,
       "version_minor": 0
      },
      "text/plain": [
       "Validation: 0it [00:00, ?it/s]"
      ]
     },
     "metadata": {},
     "output_type": "display_data"
    },
    {
     "name": "stdout",
     "output_type": "stream",
     "text": [
      "Validation Set (@epoch:3): loss=10.106876373291016, recall=0.05275493487715721, mrr=0.017913000658154488\n"
     ]
    },
    {
     "data": {
      "application/vnd.jupyter.widget-view+json": {
       "model_id": "b9116808eba94cc59cc2a3f39d2a2930",
       "version_major": 2,
       "version_minor": 0
      },
      "text/plain": [
       "Validation: 0it [00:00, ?it/s]"
      ]
     },
     "metadata": {},
     "output_type": "display_data"
    },
    {
     "name": "stderr",
     "output_type": "stream",
     "text": [
      "`Trainer.fit` stopped: `max_epochs=5` reached.\n"
     ]
    },
    {
     "name": "stdout",
     "output_type": "stream",
     "text": [
      "Validation Set (@epoch:4): loss=10.097537994384766, recall=0.05454130470752716, mrr=0.018658485263586044\n",
      "CPU times: user 1min 58s, sys: 8.51 s, total: 2min 7s\n",
      "Wall time: 2min 4s\n"
     ]
    }
   ],
   "source": [
    "%%time\n",
    "from recsys.transformer.lit_model import LitTransformerModel\n",
    "from recsys.preprocessor import save_product_id_mapper\n",
    "from pytorch_lightning import seed_everything, LightningModule, Trainer\n",
    "from pytorch_lightning.callbacks import TQDMProgressBar\n",
    "import pandas as pd\n",
    "import torch\n",
    "from recsys.transformer.dataloader import TransformerDataLoader\n",
    "\n",
    "\n",
    "train_df = pd.read_pickle(\"./data/train.pkl\")\n",
    "val_df = pd.read_pickle(\"./data/val.pkl\")\n",
    "test_df = pd.read_pickle(\"./data/test.pkl\")\n",
    "\n",
    "model = LitTransformerModel(\n",
    "    train_df,\n",
    "    val_df,\n",
    "    test_df,\n",
    "    batch_size=256,\n",
    "    max_session_length=20\n",
    ")\n",
    "saved_model_path = './saved_model/transformer/'\n",
    "if not os.path.exists(saved_model_path):\n",
    "    os.makedirs(saved_model_path)\n",
    "\n",
    "save_product_id_mapper(saved_model_path, model)\n",
    "\n",
    "trainer = Trainer(\n",
    "    max_epochs=5,\n",
    "    callbacks=[TQDMProgressBar(refresh_rate=5)],\n",
    "    val_check_interval=1.0,\n",
    "    accelerator='gpu' if torch.cuda.is_available() else 'cpu',\n",
    "    check_val_every_n_epoch=1,\n",
    "    default_root_dir=saved_model_path\n",
    ")\n",
    "trainer.fit(model)"
   ]
  },
  {
   "cell_type": "code",
   "execution_count": 2,
   "metadata": {},
   "outputs": [
    {
     "name": "stderr",
     "output_type": "stream",
     "text": [
      "/usr/local/lib/python3.8/dist-packages/pytorch_lightning/trainer/connectors/checkpoint_connector.py:175: UserWarning: .test(ckpt_path=\"last\") is set, but there is no fault tolerant or last checkpoint available. No checkpoint will be loaded.\n",
      "  rank_zero_warn(\n",
      "LOCAL_RANK: 0 - CUDA_VISIBLE_DEVICES: [0]\n"
     ]
    },
    {
     "data": {
      "application/vnd.jupyter.widget-view+json": {
       "model_id": "c9c05873b70848b98f289f7e6dd3c4a6",
       "version_major": 2,
       "version_minor": 0
      },
      "text/plain": [
       "Testing: 0it [00:00, ?it/s]"
      ]
     },
     "metadata": {},
     "output_type": "display_data"
    },
    {
     "name": "stdout",
     "output_type": "stream",
     "text": [
      "Testing Set: loss=10.101299285888672, recall=0.04995930194854736, mrr=0.015423083677887917\n"
     ]
    },
    {
     "data": {
      "text/plain": [
       "[{}]"
      ]
     },
     "execution_count": 2,
     "metadata": {},
     "output_type": "execute_result"
    }
   ],
   "source": [
    "trainer.test(ckpt_path=\"last\")"
   ]
  }
 ],
 "metadata": {
  "kernelspec": {
   "display_name": "Python 3 (ipykernel)",
   "language": "python",
   "name": "python3"
  },
  "language_info": {
   "codemirror_mode": {
    "name": "ipython",
    "version": 3
   },
   "file_extension": ".py",
   "mimetype": "text/x-python",
   "name": "python",
   "nbconvert_exporter": "python",
   "pygments_lexer": "ipython3",
   "version": "3.8.10"
  },
  "orig_nbformat": 4,
  "vscode": {
   "interpreter": {
    "hash": "916dbcbb3f70747c44a77c7bcd40155683ae19c65e1c03b4aa3499c5328201f1"
   }
  }
 },
 "nbformat": 4,
 "nbformat_minor": 2
}
